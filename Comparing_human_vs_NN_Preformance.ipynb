{
  "nbformat": 4,
  "nbformat_minor": 0,
  "metadata": {
    "colab": {
      "provenance": []
    },
    "kernelspec": {
      "name": "python3",
      "display_name": "Python 3"
    },
    "language_info": {
      "name": "python"
    }
  },
  "cells": [
    {
      "cell_type": "code",
      "source": [
        "#  Mount Google Drive\n",
        "from google.colab import drive\n",
        "drive.mount('/content/drive')\n",
        "\n"
      ],
      "metadata": {
        "colab": {
          "base_uri": "https://localhost:8080/"
        },
        "id": "Z20ZQRdPeSiA",
        "outputId": "221a02b2-fc11-48c5-d2b6-3284ba72f3ed"
      },
      "execution_count": null,
      "outputs": [
        {
          "output_type": "stream",
          "name": "stdout",
          "text": [
            "Mounted at /content/drive\n"
          ]
        }
      ]
    },
    {
      "cell_type": "code",
      "execution_count": null,
      "metadata": {
        "colab": {
          "base_uri": "https://localhost:8080/"
        },
        "id": "EeVLhbemdE-p",
        "outputId": "ff765293-f39b-4d3b-a846-41f1f6034fc9"
      },
      "outputs": [
        {
          "output_type": "stream",
          "name": "stdout",
          "text": [
            "     ID  stim_1_left  stim_1_right   rt1  choice1  responsekey1  stim_2_left  \\\n",
            "0  Sub1            1             2  4652        2            74            1   \n",
            "1  Sub1            2             1   868        2            70            2   \n",
            "\n",
            "   stim_2_right   rt2  choice2  ...  state2  stake  score  practice  \\\n",
            "0             2  1052        2  ...       1      1      0         1   \n",
            "1             1   684        2  ...       2      1      1         1   \n",
            "\n",
            "   p_win_state1_action1  p_win_state1_action2  p_win_state2_action2  \\\n",
            "0              0.400000              0.600000               0.25000   \n",
            "1              0.379874              0.605788               0.26889   \n",
            "\n",
            "   p_win_state2_action2.1  trial_number  time_elapsed  \n",
            "0                 0.75000             0        369858  \n",
            "1                 0.73583             1        375640  \n",
            "\n",
            "[2 rows x 22 columns]\n",
            "     ID  state1  stim_left  stim_right   rt1  choice1  responsekey1  rt2  \\\n",
            "0  Sub1       2          4           3   717        4            70  496   \n",
            "1  Sub1       1          1           2   504        2            74  303   \n",
            "2  Sub1       2          3           4  1175        4            74  318   \n",
            "3  Sub1       2          4           3   672        4            70  430   \n",
            "4  Sub1       2          3           4   693        4            74  272   \n",
            "\n",
            "   points  state2  stake  score  practice  rews_s1  rews_s2  trial_nr  \\\n",
            "0       4       2      1      4         1        7        4         0   \n",
            "1       3       2      1      7         1        8        3         1   \n",
            "2       4       2      1     11         1        4        4         2   \n",
            "3       5       2      1     16         1        5        5         3   \n",
            "4       6       2      1     22         1        3        6         4   \n",
            "\n",
            "   time_elapsed  \n",
            "0        307407  \n",
            "1        312878  \n",
            "2        319200  \n",
            "3        325340  \n",
            "4        331553  \n",
            "   episode  trial_num  actionInS1        stateInS1  common  actionIS2  reward  \\\n",
            "0        0          1           1  [1 0 0 1 2 1 0]    True          1       1   \n",
            "1        0          2           1  [1 0 0 1 2 1 1]    True          1       1   \n",
            "\n",
            "         stateInS2  score  p_win_state1_action1  p_win_state1_action2  \\\n",
            "0  [0 0 1 5 6 1 0]      1                 0.400                 0.600   \n",
            "1  [0 0 1 6 5 1 1]      2                 0.386                 0.616   \n",
            "\n",
            "   p_win_state2_action1  p_win_state2_action2  stake  \n",
            "0                 0.250                 0.750      1  \n",
            "1                 0.206                 0.727      1  \n",
            "   episode  trial_num  actionInS1 stateInS1  reward  score  \\\n",
            "0        0          1           0     [2 1]       0      0   \n",
            "1        0          2           0     [2 1]       3      3   \n",
            "\n",
            "  p_win_state1_action p_win_state2_action  stake  \n",
            "0               [4.0]               [0.0]      1  \n",
            "1             [1.294]             [3.134]      1  \n"
          ]
        }
      ],
      "source": [
        "import pandas as pd\n",
        "\n",
        "# Define the file path for data from Kool et al. 2017\n",
        "data= '/content/drive/My Drive/Models/folder/data_kool/data.csv'\n",
        "data_novel= '/content/drive/My Drive/Models/folder/data_kool/data-novel.csv'\n",
        "\n",
        "# Load the CSV into a DataFrame\n",
        "df_dataK = pd.read_csv(data, sep='\\t')\n",
        "\n",
        "df_data_novel = pd.read_csv(data_novel, sep='\\t')\n",
        "# Display the first few rows of the DataFrame\n",
        "print(df_dataK.head(2))\n",
        "print(df_data_novel.head(5))\n",
        "\n",
        "\n",
        "# Define the file path\n",
        "normal= '/content/drive/My Drive/Models/folder/output_normal_testTrained.csv'\n",
        "novel= '/content/drive/My Drive/Models/folder/output_novel_testTrained.csv'\n",
        "\n",
        "#normal refers to original task\n",
        "# Load the CSV into a DataFrame\n",
        "df_normal = pd.read_csv(normal)\n",
        "\n",
        "df_novel= pd.read_csv(novel)\n",
        "# Display the first few rows of the DataFrame\n",
        "print(df_normal.head(2))\n",
        "print(df_novel.head(2))\n",
        "\n",
        "\n"
      ]
    },
    {
      "cell_type": "code",
      "source": [
        "#counting participants in original and novel data by kool et al.\n",
        "unique_id_count = df_dataK['ID'].nunique()\n",
        "print(\"Number of unique IDs in normal K:\", unique_id_count)\n",
        "unique_id_count_n = df_data_novel['ID'].nunique()\n",
        "print(\"Number of unique IDs in novel K:\", unique_id_count_n)\n"
      ],
      "metadata": {
        "colab": {
          "base_uri": "https://localhost:8080/"
        },
        "id": "m3I3uHJremwi",
        "outputId": "e3750c78-e1fd-4ae9-ad4a-534c0795a15b"
      },
      "execution_count": null,
      "outputs": [
        {
          "output_type": "stream",
          "name": "stdout",
          "text": [
            "Number of unique IDs in normal K: 100\n",
            "Number of unique IDs in novel K: 102\n"
          ]
        }
      ]
    },
    {
      "cell_type": "code",
      "source": [
        "# filtering out practice trials\n",
        "filtered_df_normal = df_dataK[df_dataK['practice'] != 1]\n",
        "filtered_df_novel = df_data_novel[df_data_novel['practice'] != 1]\n"
      ],
      "metadata": {
        "id": "0x2gZWZGP6mx"
      },
      "execution_count": null,
      "outputs": []
    },
    {
      "cell_type": "code",
      "source": [
        "# Get all unique IDs\n",
        "all_ids = filtered_df_novel['ID'].unique()\n",
        "\n",
        "# Identify the last two unique IDs\n",
        "last_two_ids = all_ids[-2:]\n",
        "\n",
        "# Exclude rows where the ID is one of the last two IDs to make number of participants 100\n",
        "filtered_novel_df = filtered_df_novel[~filtered_df_novel['ID'].isin(last_two_ids)]\n"
      ],
      "metadata": {
        "id": "fDpCg0I5RUZc"
      },
      "execution_count": null,
      "outputs": []
    },
    {
      "cell_type": "code",
      "source": [
        "#making sure all files have the same number of participants and episodes\n",
        "unique_id_count = filtered_df_normal['ID'].nunique()\n",
        "print(\"Number of unique IDs in normal K:\", unique_id_count)\n",
        "unique_id_count_n = filtered_novel_df['ID'].nunique()\n",
        "print(\"Number of unique IDs in novel K:\", unique_id_count_n)\n",
        "\n",
        "unique_id_count_nn = df_normal['episode'].nunique()\n",
        "print(\"Number of unique episodes in normal K:\", unique_id_count_nn)\n",
        "unique_id_count_n_nn = df_novel['episode'].nunique()\n",
        "print(\"Number of unique episodes in novel K:\", unique_id_count_n_nn)"
      ],
      "metadata": {
        "colab": {
          "base_uri": "https://localhost:8080/"
        },
        "id": "MsSvXKGPRaRv",
        "outputId": "6e0f44d1-0e42-46e5-9e65-485aa3443c6c"
      },
      "execution_count": null,
      "outputs": [
        {
          "output_type": "stream",
          "name": "stdout",
          "text": [
            "Number of unique IDs in normal K: 100\n",
            "Number of unique IDs in novel K: 100\n",
            "Number of unique episodes in normal K: 100\n",
            "Number of unique episodes in novel K: 100\n"
          ]
        }
      ]
    },
    {
      "cell_type": "code",
      "source": [
        "\n",
        "common_index = filtered_df_normal.index.intersection(df_normal.index)\n",
        "comparison = filtered_df_normal.loc[common_index, 'win'] > df_normal.loc[common_index, 'reward']\n",
        "\n",
        "\n",
        "# Count how many times df1 has better scores\n",
        "dfhumans_better = comparison.sum()\n",
        "\n",
        "# Count how many times df2 has better scores\n",
        "dfNN_better = (~comparison).sum()\n",
        "# printing the results of comparing human vs. NN in original task, which has better rewards in general\n",
        "print(f\"df humans for original task has better win {dfhumans_better} times.\")\n",
        "print(f\"df NN for novel task has better rewards {dfNN_better} times.\")\n",
        "\n",
        "\n",
        "\n",
        "# Calculate the sum of scores\n",
        "df_human_total = filtered_df_normal['score'].sum()\n",
        "df_NN_total = df_normal['score'].sum()\n",
        "#printing th sum of scores for each group (Humans vs NN)\n",
        "print(f\"df humans in normal task total score: {df_human_total}\")\n",
        "print(f\"df NN in normal task total score: {df_NN_total}\")\n",
        "\n",
        "# Determine the better DataFrame bigger sum of rewards\n",
        "if df_human_total > df_NN_total:\n",
        "    print(\"df humans has better overall scores.\")\n",
        "else:\n",
        "    print(\"df NN has better overall scores.\")\n",
        "\n",
        "# Calculate the sum of rewards (rewards make up scores)\n",
        "df_human_total = filtered_df_normal['win'].sum()\n",
        "df_NN_total = df_normal['reward'].sum()\n",
        "\n",
        "print(f\"df humans in normal task total points: {df_human_total}\")\n",
        "print(f\"df NN in normal task total reward: {df_NN_total}\")\n",
        "\n",
        "# Determine the better DataFrame has bigger sum of rewards\n",
        "if df_human_total > df_NN_total:\n",
        "    print(\"df humans has better overall points.\")\n",
        "else:\n",
        "    print(\"df NN has better overall reward.\")\n"
      ],
      "metadata": {
        "colab": {
          "base_uri": "https://localhost:8080/"
        },
        "id": "d9xo1XXEWco8",
        "outputId": "5f02e3bf-4cf5-458a-8f53-eac1fca717e1"
      },
      "execution_count": null,
      "outputs": [
        {
          "output_type": "stream",
          "name": "stdout",
          "text": [
            "df humans for original task has better win 4801 times.\n",
            "df NN for novel task has better rewards 12874 times.\n",
            "df humans in normal task total score: 2819945\n",
            "df NN in normal task total score: 2906269\n",
            "df NN has better overall scores.\n",
            "df humans in normal task total points: 10508\n",
            "df NN in normal task total reward: 29218\n",
            "df NN has better overall reward.\n"
          ]
        }
      ]
    },
    {
      "cell_type": "code",
      "source": [
        "print(filtered_novel_df.head(5))\n"
      ],
      "metadata": {
        "colab": {
          "base_uri": "https://localhost:8080/"
        },
        "id": "NCFOEmxiVGYk",
        "outputId": "d96139c3-c6df-429d-b208-0b60782ba332"
      },
      "execution_count": null,
      "outputs": [
        {
          "output_type": "stream",
          "name": "stdout",
          "text": [
            "      ID  state1  stim_left  stim_right   rt1  choice1  responsekey1  rt2  \\\n",
            "25  Sub1       1          2           1   748        1            74  256   \n",
            "26  Sub1       1          2           1  1018        2            70  309   \n",
            "27  Sub1       2          4           3   810        3            74  267   \n",
            "28  Sub1       2          3           4   601        3            70  336   \n",
            "29  Sub1       2          3           4   711        3            70  301   \n",
            "\n",
            "    points  state2  stake  score  practice  rews_s1  rews_s2  trial_nr  \\\n",
            "25       7       1      1      7         0        7        3         0   \n",
            "26       0       2      1      7         0        6        0         1   \n",
            "27       7       1      1     14         0        7        1         2   \n",
            "28       7       1      1     21         0        7        1         3   \n",
            "29       8       1      1     29         0        8        1         4   \n",
            "\n",
            "    time_elapsed  \n",
            "25        650712  \n",
            "26        659742  \n",
            "27        670186  \n",
            "28        680680  \n",
            "29        691346  \n"
          ]
        }
      ]
    },
    {
      "cell_type": "code",
      "source": [
        "print(df_novel.head(5))\n"
      ],
      "metadata": {
        "colab": {
          "base_uri": "https://localhost:8080/"
        },
        "id": "0NhFFqQ43Ozb",
        "outputId": "6a7dd7ff-151c-4c6e-e72e-e754488c1246"
      },
      "execution_count": null,
      "outputs": [
        {
          "output_type": "stream",
          "name": "stdout",
          "text": [
            "   episode  trial_num  actionInS1 stateInS1  reward  score  \\\n",
            "0        0          1           0     [2 1]       0      0   \n",
            "1        0          2           0     [2 1]       3      3   \n",
            "2        0          3           0     [2 1]       2      5   \n",
            "3        0          4           0     [1 2]       5     10   \n",
            "4        0          5           0     [4 3]       1     11   \n",
            "\n",
            "  p_win_state1_action p_win_state2_action  stake  \n",
            "0               [4.0]               [0.0]      1  \n",
            "1             [1.294]             [3.134]      1  \n",
            "2             [0.459]             [2.954]      5  \n",
            "3             [1.021]              [2.21]      1  \n",
            "4             [2.017]             [1.485]      1  \n"
          ]
        }
      ]
    },
    {
      "cell_type": "code",
      "source": [
        "import pandas as pd\n",
        "\n",
        "####     Correcting Reward for Human choices on the novel task (filtered_novel_df)\n",
        "\n",
        "\n",
        "# Step 1: Calculate Average Reward Distribution\n",
        "\n",
        "filtered_novel_df.loc[:, 'reward_distribution'] = filtered_novel_df['rews_s1'] + filtered_novel_df['rews_s2']\n",
        "\n",
        "average_reward_distribution = filtered_novel_df['reward_distribution'].mean()\n",
        "# Step 2: Correct Rewards\n",
        "filtered_novel_df.loc[:, 'corrected_reward'] = filtered_novel_df['points'] / average_reward_distribution\n",
        "\n",
        "\n",
        "# Step 3: Compute Average Corrected Reward Rate\n",
        "mean_corrected_reward_rate = filtered_novel_df['corrected_reward'].mean()\n",
        "\n",
        "# Print Results\n",
        "print(\"Average Reward Distribution:\", average_reward_distribution)\n",
        "print(\"Data with Corrected Rewards:\\n\", filtered_novel_df)\n",
        "print(\"Mean Corrected Reward Rate:\", mean_corrected_reward_rate)\n"
      ],
      "metadata": {
        "colab": {
          "base_uri": "https://localhost:8080/"
        },
        "id": "DL81Nujlz2uZ",
        "outputId": "d9cec0e7-95df-4f80-f202-b6c1c5859abc"
      },
      "execution_count": null,
      "outputs": [
        {
          "output_type": "stream",
          "name": "stdout",
          "text": [
            "Average Reward Distribution: 8.8758\n",
            "Data with Corrected Rewards:\n",
            "           ID  state1  stim_left  stim_right   rt1  choice1  responsekey1  rt2  \\\n",
            "25      Sub1       1          2           1   748        1            74  256   \n",
            "26      Sub1       1          2           1  1018        2            70  309   \n",
            "27      Sub1       2          4           3   810        3            74  267   \n",
            "28      Sub1       2          3           4   601        3            70  336   \n",
            "29      Sub1       2          3           4   711        3            70  301   \n",
            "...      ...     ...        ...         ...   ...      ...           ...  ...   \n",
            "22495  Sub99       1          1           2   533        2            74  801   \n",
            "22496  Sub99       2          3           4  1024        3            70  384   \n",
            "22497  Sub99       1          2           1   670        1            74  694   \n",
            "22498  Sub99       1          2           1   592        2            70  597   \n",
            "22499  Sub99       1          1           2   854        1            70  431   \n",
            "\n",
            "       points  state2  stake  score  practice  rews_s1  rews_s2  trial_nr  \\\n",
            "25          7       1      1      7         0        7        3         0   \n",
            "26          0       2      1      7         0        6        0         1   \n",
            "27          7       1      1     14         0        7        1         2   \n",
            "28          7       1      1     21         0        7        1         3   \n",
            "29          8       1      1     29         0        8        1         4   \n",
            "...       ...     ...    ...    ...       ...      ...      ...       ...   \n",
            "22495       3       2      5   2724         0        1        3       195   \n",
            "22496       2       1      5   2734         0        2        0       196   \n",
            "22497       0       1      5   2734         0        0        0       197   \n",
            "22498       1       2      1   2735         0        1        1       198   \n",
            "22499       0       1      5   2735         0        0        3       199   \n",
            "\n",
            "       time_elapsed  reward_distribution  corrected_reward  \n",
            "25           650712                   10          0.788661  \n",
            "26           659742                    6          0.000000  \n",
            "27           670186                    8          0.788661  \n",
            "28           680680                    8          0.788661  \n",
            "29           691346                    9          0.901327  \n",
            "...             ...                  ...               ...  \n",
            "22495       3349509                    4          0.337998  \n",
            "22496       3358964                    2          0.225332  \n",
            "22497       3368006                    0          0.000000  \n",
            "22498       3377257                    2          0.112666  \n",
            "22499       3386320                    3          0.000000  \n",
            "\n",
            "[20000 rows x 19 columns]\n",
            "Mean Corrected Reward Rate: 0.5253554609161991\n"
          ]
        }
      ]
    },
    {
      "cell_type": "code",
      "source": [
        "\n",
        "# Convert columns from string to numeric for correcting reward on the NN df\n",
        "df_novel['p_win_state1_action'] = df_novel['p_win_state1_action'].str.strip('[]').astype(float)\n",
        "df_novel['p_win_state2_action'] = df_novel['p_win_state2_action'].str.strip('[]').astype(float)\n",
        "\n",
        "df_novel['p_win_state1_action'] = df_novel['p_win_state1_action'].astype(int)\n",
        "df_novel['p_win_state2_action'] = df_novel['p_win_state2_action'].astype(int)\n",
        "\n",
        "print(df_novel.head(5))\n"
      ],
      "metadata": {
        "colab": {
          "base_uri": "https://localhost:8080/"
        },
        "id": "SZEH1I5o9m-w",
        "outputId": "0ac5c862-1468-475a-a7cd-c58afba72c5e"
      },
      "execution_count": null,
      "outputs": [
        {
          "output_type": "stream",
          "name": "stdout",
          "text": [
            "   episode  trial_num  actionInS1 stateInS1  reward  score  \\\n",
            "0        0          1           0     [2 1]       0      0   \n",
            "1        0          2           0     [2 1]       3      3   \n",
            "2        0          3           0     [2 1]       2      5   \n",
            "3        0          4           0     [1 2]       5     10   \n",
            "4        0          5           0     [4 3]       1     11   \n",
            "\n",
            "   p_win_state1_action  p_win_state2_action  stake reward_distribution  \\\n",
            "0                    4                    0      1                 4.0   \n",
            "1                    1                    3      1               4.428   \n",
            "2                    0                    2      5               3.413   \n",
            "3                    1                    2      1               3.231   \n",
            "4                    2                    1      1               3.502   \n",
            "\n",
            "   corrected_reward  \n",
            "0           0.00000  \n",
            "1           0.32892  \n",
            "2           0.21928  \n",
            "3           0.54820  \n",
            "4           0.10964  \n"
          ]
        }
      ]
    },
    {
      "cell_type": "code",
      "source": [
        "import pandas as pd\n",
        "\n",
        "#   Correcting Reward for NN choices on the novel task (df_novel)\n",
        "\n",
        "# Step 1: Calculate Average Reward Distribution\n",
        "\n",
        "df_novel.loc[:, 'reward_distribution'] = df_novel['p_win_state1_action'] + df_novel['p_win_state2_action']\n",
        "\n",
        "average_reward_distribution = df_novel['reward_distribution'].mean()\n",
        "\n",
        "# Step 2: Correct Rewards\n",
        "df_novel.loc[:, 'corrected_reward'] = df_novel['reward'] / average_reward_distribution\n",
        "\n",
        "\n",
        "\n",
        "# Step 3: Compute Average Corrected Reward Rate\n",
        "mean_corrected_reward_rate = df_novel['corrected_reward'].mean()\n",
        "\n",
        "# Print Results\n",
        "print(\"Average Reward Distribution:\", average_reward_distribution)\n",
        "print(\"Data with Corrected Rewards:\\n\", df_novel)\n",
        "print(\"Mean Corrected Reward Rate:\", mean_corrected_reward_rate)\n"
      ],
      "metadata": {
        "colab": {
          "base_uri": "https://localhost:8080/"
        },
        "id": "HCEt3IDJ5bnd",
        "outputId": "1f322deb-bad6-4c15-c1cd-534bc44d4048"
      },
      "execution_count": null,
      "outputs": [
        {
          "output_type": "stream",
          "name": "stdout",
          "text": [
            "Average Reward Distribution: 8.1236\n",
            "Data with Corrected Rewards:\n",
            "        episode  trial_num  actionInS1 stateInS1  reward  score  \\\n",
            "0            0          1           0     [2 1]       0      0   \n",
            "1            0          2           0     [2 1]       3      3   \n",
            "2            0          3           0     [2 1]       2      5   \n",
            "3            0          4           0     [1 2]       5     10   \n",
            "4            0          5           0     [4 3]       1     11   \n",
            "...        ...        ...         ...       ...     ...    ...   \n",
            "19995       99        196           0     [2 1]       0   2855   \n",
            "19996       99        197           0     [2 1]       1   2856   \n",
            "19997       99        198           0     [2 1]       0   2856   \n",
            "19998       99        199           0     [3 4]       3   2859   \n",
            "19999       99        200           0     [4 3]       1   2860   \n",
            "\n",
            "       p_win_state1_action  p_win_state2_action  stake reward_distribution  \\\n",
            "0                        4                    0      1                   4   \n",
            "1                        1                    3      1                   4   \n",
            "2                        0                    2      5                   2   \n",
            "3                        1                    2      1                   3   \n",
            "4                        2                    1      1                   3   \n",
            "...                    ...                  ...    ...                 ...   \n",
            "19995                    0                    0      1                   0   \n",
            "19996                    0                    1      1                   1   \n",
            "19997                    1                    0      1                   1   \n",
            "19998                    3                    1      1                   4   \n",
            "19999                    2                    1      1                   3   \n",
            "\n",
            "       corrected_reward  \n",
            "0              0.000000  \n",
            "1              0.369294  \n",
            "2              0.246196  \n",
            "3              0.615491  \n",
            "4              0.123098  \n",
            "...                 ...  \n",
            "19995          0.000000  \n",
            "19996          0.123098  \n",
            "19997          0.000000  \n",
            "19998          0.369294  \n",
            "19999          0.123098  \n",
            "\n",
            "[20000 rows x 11 columns]\n",
            "Mean Corrected Reward Rate: 1.5022526958491311\n"
          ]
        }
      ]
    },
    {
      "cell_type": "code",
      "source": [
        "# Calculate mean corrected reward for each group\n",
        "human_mean = filtered_novel_df['corrected_reward'].mean()\n",
        "NN_mean = df_novel['corrected_reward'].mean()\n",
        "\n",
        "print(f\"human Mean Corrected Reward: {human_mean}\")\n",
        "print(f\"NN Mean Corrected Reward: {NN_mean}\")\n"
      ],
      "metadata": {
        "colab": {
          "base_uri": "https://localhost:8080/"
        },
        "id": "tOil0COl8P7i",
        "outputId": "1302eee0-de25-4937-b150-6d54d069fd16"
      },
      "execution_count": null,
      "outputs": [
        {
          "output_type": "stream",
          "name": "stdout",
          "text": [
            "human Mean Corrected Reward: 0.5253554609161991\n",
            "NN Mean Corrected Reward: 1.5022526958491311\n"
          ]
        }
      ]
    },
    {
      "cell_type": "code",
      "source": [
        "from scipy.stats import ttest_ind\n",
        "\n",
        "# Extract corrected rewards for each group\n",
        "human_rewards = filtered_novel_df['corrected_reward']\n",
        "NN_rewards = df_novel['corrected_reward']\n",
        "\n",
        "# Perform t-test\n",
        "t_stat, p_value = ttest_ind(human_rewards, NN_rewards, equal_var=False)\n",
        "print(f\"T-Statistic: {t_stat}, P-Value: {p_value}\")\n"
      ],
      "metadata": {
        "colab": {
          "base_uri": "https://localhost:8080/"
        },
        "id": "bMGXP5P2-ebO",
        "outputId": "fc0c2530-c3be-407e-a687-ebf386f7c9e9"
      },
      "execution_count": null,
      "outputs": [
        {
          "output_type": "stream",
          "name": "stdout",
          "text": [
            "T-Statistic: -88.82380520830239, P-Value: 0.0\n"
          ]
        }
      ]
    },
    {
      "cell_type": "code",
      "source": [
        "#making sure both have the same length\n",
        "print(len(human_rewards))\n",
        "print(len(NN_rewards))"
      ],
      "metadata": {
        "id": "pLrzyU0IYTrQ",
        "outputId": "17a25638-a68c-44d0-d208-945250622d57",
        "colab": {
          "base_uri": "https://localhost:8080/"
        }
      },
      "execution_count": null,
      "outputs": [
        {
          "output_type": "stream",
          "name": "stdout",
          "text": [
            "20000\n",
            "20000\n"
          ]
        }
      ]
    },
    {
      "cell_type": "code",
      "source": [
        "import matplotlib.pyplot as plt\n",
        "\n",
        "# Create a side-by-side boxplot\n",
        "plt.boxplot([human_rewards, NN_rewards], labels=['Humans', 'NN'])\n",
        "plt.title('Comparison of Corrected Rewards')\n",
        "plt.ylabel('Corrected Reward')\n",
        "plt.show()\n"
      ],
      "metadata": {
        "colab": {
          "base_uri": "https://localhost:8080/",
          "height": 452
        },
        "id": "Jx2jZLeN-4C8",
        "outputId": "11af4945-370d-4475-e151-1e8d03ad8f0b"
      },
      "execution_count": null,
      "outputs": [
        {
          "output_type": "display_data",
          "data": {
            "text/plain": [
              "<Figure size 640x480 with 1 Axes>"
            ],
            "image/png": "[encoded data removed]"
          },
          "metadata": {}
        }
      ]
    },
    {
      "cell_type": "code",
      "source": [
        "import numpy as np\n",
        "# Extract corrected rewards for each group\n",
        "human_rewards = filtered_novel_df['corrected_reward']\n",
        "NN_rewards = df_novel['corrected_reward']\n",
        "\n",
        "# Calculate group means\n",
        "mean_humans = np.mean(human_rewards)\n",
        "mean_NN = np.mean(NN_rewards)\n",
        "\n",
        "# Calculate pooled standard deviation\n",
        "std_H = np.std(human_rewards, ddof=1)  # Standard deviation for Group 1\n",
        "std_NN = np.std(NN_rewards, ddof=1)  # Standard deviation for Group 2\n",
        "n_H, n_NN = len(human_rewards), len(NN_rewards)\n",
        "\n",
        "pooled_std = np.sqrt(((n_H - 1) * std_H**2 + (n_NN - 1) * std_NN**2) / (n_H + n_NN - 2))\n",
        "\n",
        "# Calculate Cohen's d\n",
        "cohens_d = (mean_NN - mean_humans) / pooled_std\n",
        "\n",
        "print(f\"Humans Mean: {mean_humans}, NN Mean: {mean_NN}\")\n",
        "print(f\"Cohen's d: {cohens_d}\")"
      ],
      "metadata": {
        "colab": {
          "base_uri": "https://localhost:8080/"
        },
        "id": "JJaRQMVA_DKM",
        "outputId": "a3fa423d-ade8-4aca-d867-d89d9d732a74"
      },
      "execution_count": null,
      "outputs": [
        {
          "output_type": "stream",
          "name": "stdout",
          "text": [
            "Humans Mean: 0.5253554609161991, NN Mean: 1.5022526958491311\n",
            "Cohen's d: 0.8882380520830078\n"
          ]
        }
      ]
    },
    {
      "cell_type": "code",
      "source": [
        "import seaborn as sns\n",
        "import matplotlib.pyplot as plt\n",
        "\n",
        "# Combine data for plotting\n",
        "import pandas as pd\n",
        "human_rewards = filtered_novel_df['corrected_reward']\n",
        "NN_rewards = df_novel['corrected_reward']\n",
        "\n",
        "combined_df = pd.DataFrame({\n",
        "    'Group': ['Humans'] * len(human_rewards) + ['NN'] * len(NN_rewards),\n",
        "    'Corrected Reward': np.concatenate([human_rewards, NN_rewards])\n",
        "})\n",
        "\n",
        "# Plot\n",
        "sns.boxplot(data=combined_df, x='Group', y='Corrected Reward')\n",
        "plt.title('Corrected Reward Rate Comparison')\n",
        "plt.ylabel('Corrected Reward Rate')\n",
        "plt.show()\n"
      ],
      "metadata": {
        "colab": {
          "base_uri": "https://localhost:8080/",
          "height": 472
        },
        "id": "OLyRB1bsBYdb",
        "outputId": "9ec99604-ec1d-4ec9-e9d5-37f181e2de89"
      },
      "execution_count": null,
      "outputs": [
        {
          "output_type": "display_data",
          "data": {
            "text/plain": [
              "<Figure size 640x480 with 1 Axes>"
            ],
            "image/png": "[encoded data removed]"
          },
          "metadata": {}
        }
      ]
    },
    {
      "cell_type": "code",
      "source": [
        "sns.violinplot(data=combined_df, x='Group', y='Corrected Reward', inner='quartile')\n",
        "plt.title('Corrected Reward Rate Distribution')\n",
        "plt.ylabel('Corrected Reward Rate')\n",
        "plt.show()\n"
      ],
      "metadata": {
        "colab": {
          "base_uri": "https://localhost:8080/",
          "height": 472
        },
        "id": "ohtYGXRgB9SF",
        "outputId": "b0fa8edd-ca18-46a7-d9c5-dbc0a44bf558"
      },
      "execution_count": null,
      "outputs": [
        {
          "output_type": "display_data",
          "data": {
            "text/plain": [
              "<Figure size 640x480 with 1 Axes>"
            ],
            "image/png": "[encoded data removed]"
          },
          "metadata": {}
        }
      ]
    },
    {
      "cell_type": "code",
      "source": [],
      "metadata": {
        "id": "cZqXoEdCCC5A"
      },
      "execution_count": null,
      "outputs": []
    }
  ]
}